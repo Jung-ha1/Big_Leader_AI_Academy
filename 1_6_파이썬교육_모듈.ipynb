{
  "nbformat": 4,
  "nbformat_minor": 0,
  "metadata": {
    "colab": {
      "name": "1-6. 파이썬교육_모듈",
      "provenance": [],
      "collapsed_sections": [],
      "authorship_tag": "ABX9TyOTBxsUZwuGhFp30zHXC6jH",
      "include_colab_link": true
    },
    "kernelspec": {
      "name": "python3",
      "display_name": "Python 3"
    },
    "language_info": {
      "name": "python"
    }
  },
  "cells": [
    {
      "cell_type": "markdown",
      "metadata": {
        "id": "view-in-github",
        "colab_type": "text"
      },
      "source": [
        "<a href=\"https://colab.research.google.com/github/Jung-ha1/Big_Leader_AI_Academy/blob/main/1_6_%ED%8C%8C%EC%9D%B4%EC%8D%AC%EA%B5%90%EC%9C%A1_%EB%AA%A8%EB%93%88.ipynb\" target=\"_parent\"><img src=\"https://colab.research.google.com/assets/colab-badge.svg\" alt=\"Open In Colab\"/></a>"
      ]
    },
    {
      "cell_type": "code",
      "execution_count": null,
      "metadata": {
        "id": "TBzy66WfH6TQ",
        "colab": {
          "base_uri": "https://localhost:8080/",
          "height": 263
        },
        "outputId": "f425de07-f10c-4dba-b993-7cfcdc0ede6d"
      },
      "outputs": [
        {
          "output_type": "stream",
          "name": "stdout",
          "text": [
            "pi value :  3.141592653589793\n",
            "55\n"
          ]
        },
        {
          "output_type": "error",
          "ename": "AttributeError",
          "evalue": "ignored",
          "traceback": [
            "\u001b[0;31m---------------------------------------------------------------------------\u001b[0m",
            "\u001b[0;31mAttributeError\u001b[0m                            Traceback (most recent call last)",
            "\u001b[0;32m<ipython-input-10-9f80ff267227>\u001b[0m in \u001b[0;36m<module>\u001b[0;34m()\u001b[0m\n\u001b[1;32m     31\u001b[0m \u001b[0mprint\u001b[0m\u001b[0;34m(\u001b[0m\u001b[0msum\u001b[0m\u001b[0;34m)\u001b[0m\u001b[0;34m\u001b[0m\u001b[0;34m\u001b[0m\u001b[0m\n\u001b[1;32m     32\u001b[0m \u001b[0;34m\u001b[0m\u001b[0m\n\u001b[0;32m---> 33\u001b[0;31m \u001b[0mmul\u001b[0m \u001b[0;34m=\u001b[0m \u001b[0mmyMath\u001b[0m\u001b[0;34m.\u001b[0m\u001b[0mmultiply1toN\u001b[0m\u001b[0;34m(\u001b[0m\u001b[0;36m10\u001b[0m\u001b[0;34m)\u001b[0m\u001b[0;34m\u001b[0m\u001b[0;34m\u001b[0m\u001b[0m\n\u001b[0m\u001b[1;32m     34\u001b[0m \u001b[0mprint\u001b[0m\u001b[0;34m(\u001b[0m\u001b[0mmul\u001b[0m\u001b[0;34m)\u001b[0m\u001b[0;34m\u001b[0m\u001b[0;34m\u001b[0m\u001b[0m\n",
            "\u001b[0;31mAttributeError\u001b[0m: module 'myMath' has no attribute 'multiply1toN'"
          ]
        }
      ],
      "source": [
        "# myMath.py\n",
        "# 네이버 크롤링 시 random과 sleep을 사용해서 자료를 가져옴\n",
        "# 시간이 일정직이면 막힐 수 있음\n",
        "\n",
        "pi = 3.12159265359\n",
        "\n",
        "def sum1toN(endNum):\n",
        "  '''1부터 endNum까지의 수를 더해주는 함수\n",
        "  endNum: 마지막 더할 수'''\n",
        "\n",
        "  result = 0\n",
        "  for i in range(endNum):\n",
        "    result += i+1\n",
        "  return result\n",
        "\n",
        "def multiply1toN(endNum):\n",
        "  '''1부터 endNum까지의 수를 곱해주는 함수\n",
        "  endNum: 마지막 곱할 수'''\n",
        "\n",
        "  result = 1\n",
        "  for i in range(endNum):\n",
        "    result *= i + 1\n",
        "  return result\n",
        "\n",
        "# 77_module.py\n",
        "import myMath\n",
        "\n",
        "print(\"pi value : \", myMath.pi)\n",
        "\n",
        "sum = sum1toN(10)\n",
        "print(sum)\n",
        "\n",
        "mul = myMath.multiply1toN(10)\n",
        "print(mul)"
      ]
    },
    {
      "cell_type": "code",
      "source": [
        "pip install myMath"
      ],
      "metadata": {
        "colab": {
          "base_uri": "https://localhost:8080/"
        },
        "id": "blJJdtAREtzb",
        "outputId": "ddd54f77-284f-478a-d849-b89d15858dbd"
      },
      "execution_count": null,
      "outputs": [
        {
          "output_type": "stream",
          "name": "stdout",
          "text": [
            "Looking in indexes: https://pypi.org/simple, https://us-python.pkg.dev/colab-wheels/public/simple/\n",
            "Collecting myMath\n",
            "  Downloading myMath-1.0.1.zip (1.4 kB)\n",
            "Building wheels for collected packages: myMath\n",
            "  Building wheel for myMath (setup.py) ... \u001b[?25l\u001b[?25hdone\n",
            "  Created wheel for myMath: filename=myMath-1.0.1-py3-none-any.whl size=1836 sha256=77f2bbb44dce150172d53a3ca4079ba14af2c4d69c14dbb9ec33bbd00a946656\n",
            "  Stored in directory: /root/.cache/pip/wheels/09/28/d4/52116a3cc919972dee747415b51e518900370ec29d2020f0e5\n",
            "Successfully built myMath\n",
            "Installing collected packages: myMath\n",
            "Successfully installed myMath-1.0.1\n"
          ]
        }
      ]
    },
    {
      "cell_type": "code",
      "source": [
        "import math\n",
        "\n",
        "print(\"pi value: \", math.pi)\n",
        "print(\"자연상수: \", math.e)\n",
        "print(\"log value base e: \", math.log(math.e))\n",
        "print(\"log value base 10: \", math.log10(10))\n",
        "print(\"root value: \", math.sqrt(100))"
      ],
      "metadata": {
        "colab": {
          "base_uri": "https://localhost:8080/"
        },
        "id": "1t2wz4W7DoQj",
        "outputId": "62bea9f0-4604-43fe-adc4-041aa5c27c03"
      },
      "execution_count": null,
      "outputs": [
        {
          "output_type": "stream",
          "name": "stdout",
          "text": [
            "pi value:  3.141592653589793\n",
            "자연상수:  2.718281828459045\n",
            "log value base e:  1.0\n",
            "log value base 10:  1.0\n",
            "root value:  10.0\n"
          ]
        }
      ]
    },
    {
      "cell_type": "code",
      "source": [
        "# 모듈 불러오기\n",
        "import myMath\n",
        "print(myMath.sum1toN(10))"
      ],
      "metadata": {
        "colab": {
          "base_uri": "https://localhost:8080/",
          "height": 209
        },
        "id": "9QrB0woQDoTs",
        "outputId": "eb208c57-defc-465d-ff70-c3adf96fba20"
      },
      "execution_count": null,
      "outputs": [
        {
          "output_type": "error",
          "ename": "AttributeError",
          "evalue": "ignored",
          "traceback": [
            "\u001b[0;31m---------------------------------------------------------------------------\u001b[0m",
            "\u001b[0;31mAttributeError\u001b[0m                            Traceback (most recent call last)",
            "\u001b[0;32m<ipython-input-9-53585177002b>\u001b[0m in \u001b[0;36m<module>\u001b[0;34m()\u001b[0m\n\u001b[1;32m      1\u001b[0m \u001b[0;31m# 모듈 불러오기\u001b[0m\u001b[0;34m\u001b[0m\u001b[0;34m\u001b[0m\u001b[0;34m\u001b[0m\u001b[0m\n\u001b[1;32m      2\u001b[0m \u001b[0;32mimport\u001b[0m \u001b[0mmyMath\u001b[0m\u001b[0;34m\u001b[0m\u001b[0;34m\u001b[0m\u001b[0m\n\u001b[0;32m----> 3\u001b[0;31m \u001b[0mprint\u001b[0m\u001b[0;34m(\u001b[0m\u001b[0mmyMath\u001b[0m\u001b[0;34m.\u001b[0m\u001b[0msum1toN\u001b[0m\u001b[0;34m(\u001b[0m\u001b[0;36m10\u001b[0m\u001b[0;34m)\u001b[0m\u001b[0;34m)\u001b[0m\u001b[0;34m\u001b[0m\u001b[0;34m\u001b[0m\u001b[0m\n\u001b[0m",
            "\u001b[0;31mAttributeError\u001b[0m: module 'myMath' has no attribute 'sum1toN'"
          ]
        }
      ]
    },
    {
      "cell_type": "code",
      "source": [
        "# sample 함수\n",
        "import random\n",
        "\n",
        "card = ['a', 'b', 'c', 'd', 'e']\n",
        "print(card)\n",
        "\n",
        "selected = random.sample(card, 3)\n",
        "print(selected)\n",
        "\n",
        "lotto = random.sample(range(1, 46), 6)\n",
        "print(lotto)\n",
        "\n",
        "lotto.sort()\n",
        "print(lotto)"
      ],
      "metadata": {
        "colab": {
          "base_uri": "https://localhost:8080/"
        },
        "id": "4RUvfrp0DoWm",
        "outputId": "ed1118aa-2127-4ff0-bb3f-250acf4ace9c"
      },
      "execution_count": null,
      "outputs": [
        {
          "output_type": "stream",
          "name": "stdout",
          "text": [
            "['a', 'b', 'c', 'd', 'e']\n",
            "['b', 'a', 'd']\n",
            "[14, 35, 30, 32, 45, 5]\n",
            "[5, 14, 30, 32, 35, 45]\n"
          ]
        }
      ]
    },
    {
      "cell_type": "code",
      "source": [
        "# random 함수\n",
        "\n",
        "print(random.random())\n",
        "print(random.uniform(0, 10))"
      ],
      "metadata": {
        "colab": {
          "base_uri": "https://localhost:8080/"
        },
        "id": "juAJVFiZDoZH",
        "outputId": "23e4f6ab-2ba1-4ad2-8d04-feadf72d90f1"
      },
      "execution_count": null,
      "outputs": [
        {
          "output_type": "stream",
          "name": "stdout",
          "text": [
            "0.22357483580736193\n",
            "0.737687751816003\n"
          ]
        }
      ]
    },
    {
      "cell_type": "code",
      "source": [
        "# 내장 모듈 - time\n",
        "import time\n",
        "\n",
        "start = time.time()\n",
        "print(\"start: \", start)\n",
        "\n",
        "def manyloop(num):\n",
        "  for i in range(num):\n",
        "    if i % 10000 == 0:\n",
        "      print(\"*\", end=\"\")\n",
        "  print()\n",
        "\n",
        "number = int(input(\"몇 번 반복 : \"))\n",
        "manyloop(number)\n",
        "\n",
        "end = time.time()\n",
        "print(end - start, \"초 경과\")"
      ],
      "metadata": {
        "colab": {
          "base_uri": "https://localhost:8080/"
        },
        "id": "k0JvcGWRDobg",
        "outputId": "2b0e3845-b479-40db-f0e4-005976ddb4fc"
      },
      "execution_count": null,
      "outputs": [
        {
          "output_type": "stream",
          "name": "stdout",
          "text": [
            "start:  1656416568.893406\n",
            "몇 번 반복 : 100000\n",
            "**********\n",
            "5.964722156524658 초 겨과\n"
          ]
        }
      ]
    },
    {
      "cell_type": "code",
      "source": [
        "# 연습문제 1\n",
        "start = time.time()\n",
        "print(\"start: \", start)\n",
        "\n",
        "def manyloop(num):\n",
        "  for i in range(num):\n",
        "    if i % 10000 == 0:\n",
        "      print(\"*\", end=\"\")\n",
        "  print()\n",
        "\n",
        "number = 100000\n",
        "manyloop(number)\n",
        "\n",
        "end = time.time()\n",
        "print(end - start, \"초 경과\")"
      ],
      "metadata": {
        "colab": {
          "base_uri": "https://localhost:8080/"
        },
        "id": "STKtuuglH322",
        "outputId": "82faaad6-e947-46f5-9516-cbd571a0865e"
      },
      "execution_count": null,
      "outputs": [
        {
          "output_type": "stream",
          "name": "stdout",
          "text": [
            "start:  1656416635.840064\n",
            "**********\n",
            "0.013134241104125977 초 경과\n"
          ]
        }
      ]
    },
    {
      "cell_type": "code",
      "source": [
        "# ctime() 함수\n",
        "\n",
        "current = time.ctime()\n",
        "print(current)\n",
        "\n",
        "current_list = current.split(' ')\n",
        "print(type(current_list))\n",
        "\n",
        "for t in current_list:\n",
        "  print(t)"
      ],
      "metadata": {
        "colab": {
          "base_uri": "https://localhost:8080/"
        },
        "id": "2srXuXoyIDuS",
        "outputId": "82d6cb6d-f20c-415f-9ec7-134d80e3ac13"
      },
      "execution_count": null,
      "outputs": [
        {
          "output_type": "stream",
          "name": "stdout",
          "text": [
            "Tue Jun 28 12:05:28 2022\n",
            "<class 'list'>\n",
            "Tue\n",
            "Jun\n",
            "28\n",
            "12:05:28\n",
            "2022\n"
          ]
        }
      ]
    },
    {
      "cell_type": "code",
      "source": [
        "# sleep() 함수\n",
        "for t in range(6):\n",
        "  print(time.ctime())\n",
        "  time.sleep(1)"
      ],
      "metadata": {
        "colab": {
          "base_uri": "https://localhost:8080/"
        },
        "id": "-rssvki8IDxA",
        "outputId": "6b9ddcd2-31e5-4aa8-f841-dc8eb55c2dd3"
      },
      "execution_count": null,
      "outputs": [
        {
          "output_type": "stream",
          "name": "stdout",
          "text": [
            "Tue Jun 28 12:06:29 2022\n",
            "Tue Jun 28 12:06:30 2022\n",
            "Tue Jun 28 12:06:31 2022\n",
            "Tue Jun 28 12:06:32 2022\n",
            "Tue Jun 28 12:06:33 2022\n",
            "Tue Jun 28 12:06:34 2022\n"
          ]
        }
      ]
    }
  ]
}