{
  "nbformat": 4,
  "nbformat_minor": 0,
  "metadata": {
    "colab": {
      "name": "1-7. 파이썬교육_파일입출력",
      "provenance": [],
      "collapsed_sections": [],
      "authorship_tag": "ABX9TyO8OZZqKUnizUD/VGDpIZNL",
      "include_colab_link": true
    },
    "kernelspec": {
      "name": "python3",
      "display_name": "Python 3"
    },
    "language_info": {
      "name": "python"
    }
  },
  "cells": [
    {
      "cell_type": "markdown",
      "metadata": {
        "id": "view-in-github",
        "colab_type": "text"
      },
      "source": [
        "<a href=\"https://colab.research.google.com/github/Jung-ha1/Big_Leader_AI_Academy/blob/main/1_7_%ED%8C%8C%EC%9D%B4%EC%8D%AC%EA%B5%90%EC%9C%A1_%ED%8C%8C%EC%9D%BC%EC%9E%85%EC%B6%9C%EB%A0%A5.ipynb\" target=\"_parent\"><img src=\"https://colab.research.google.com/assets/colab-badge.svg\" alt=\"Open In Colab\"/></a>"
      ]
    },
    {
      "cell_type": "code",
      "execution_count": null,
      "metadata": {
        "colab": {
          "base_uri": "https://localhost:8080/"
        },
        "id": "RaC7NYsafEJl",
        "outputId": "d76921dd-dc13-430a-dc89-78b504317c71"
      },
      "outputs": [
        {
          "output_type": "stream",
          "name": "stdout",
          "text": [
            "/content\n",
            "연습데이터\n"
          ]
        }
      ],
      "source": [
        "# 파일 저장\n",
        "f = open(\"myfile.txt\", \"w\")\n",
        "\n",
        "memo = \"이것은 연습데이터\"\n",
        "\n",
        "f.write(memo)\n",
        "f.close()"
      ]
    },
    {
      "cell_type": "code",
      "source": [
        "# 경로가 있는 파일 저장\n",
        "import os\n",
        "\n",
        "print(os.getcwd())\n",
        "\n",
        "path = \"/content/\"\n",
        "f = open(path + \"myfile2.txt\", \"w\")\n",
        "\n",
        "memo = '''첫 번째 문장\\n두 번째 문장\\n세 번째 문장'''\n",
        "f.write(memo)\n",
        "f.close()\n",
        "\n",
        "# 파일 읽기\n",
        "path = \"/content/\"\n",
        "f = open(path + \"myfile2.txt\", \"r\")\n",
        "\n",
        "text = f.read()\n",
        "print(text)\n",
        "\n",
        "f.close()"
      ],
      "metadata": {
        "colab": {
          "base_uri": "https://localhost:8080/"
        },
        "id": "iJ6lqUrWmROm",
        "outputId": "14f81606-5a76-4339-97b5-9173f10c6f84"
      },
      "execution_count": null,
      "outputs": [
        {
          "output_type": "stream",
          "name": "stdout",
          "text": [
            "/content\n",
            "첫 번째 문장\n",
            "두 번째 문장\n",
            "세 번째 문장\n"
          ]
        }
      ]
    },
    {
      "cell_type": "code",
      "source": [
        "path = \"/content/\"\n",
        "f = open(path + \"myfile2.txt\", \"r\")\n",
        "\n",
        "for line in f:\n",
        "  print(line)\n",
        "\n",
        "f.close()"
      ],
      "metadata": {
        "id": "sHqvNlY1sd7Q",
        "colab": {
          "base_uri": "https://localhost:8080/"
        },
        "outputId": "052df552-8e5d-4534-caa2-9e6d24e0d87b"
      },
      "execution_count": null,
      "outputs": [
        {
          "output_type": "stream",
          "name": "stdout",
          "text": [
            "첫 번째 문장\n",
            "\n",
            "두 번째 문장\n",
            "\n",
            "세 번째 문장\n"
          ]
        }
      ]
    },
    {
      "cell_type": "code",
      "source": [
        "# readlines() 함수\n",
        "path = \"/content/\"\n",
        "f = open(path + \"myfile2.txt\", \"r\")\n",
        "\n",
        "lines = f.readlines()\n",
        "print(lines)\n",
        "\n",
        "for line in lines:\n",
        "  print(line)\n",
        "f.close()"
      ],
      "metadata": {
        "colab": {
          "base_uri": "https://localhost:8080/"
        },
        "id": "R8wXkhHIN8c6",
        "outputId": "8f879589-19e3-4633-f5d2-a83020e32ee0"
      },
      "execution_count": null,
      "outputs": [
        {
          "output_type": "stream",
          "name": "stdout",
          "text": [
            "['첫 번째 문장\\n', '두 번째 문장\\n', '세 번째 문장']\n",
            "첫 번째 문장\n",
            "\n",
            "두 번째 문장\n",
            "\n",
            "세 번째 문장\n"
          ]
        }
      ]
    },
    {
      "cell_type": "code",
      "source": [
        "# with 사용하기\n",
        "# with 사용 시 별도로 닫아주지 않아도 됨. 또한 문제 생겨도 안정적으로 닫음.\n",
        "\n",
        "path = \"/content/\"\n",
        "\n",
        "with open(path + \"myfile2.txt\", \"r\") as f:\n",
        "  lines = f.readlines()\n",
        "  print(lines)\n",
        "\n",
        "  for line in lines:\n",
        "    print(line)"
      ],
      "metadata": {
        "colab": {
          "base_uri": "https://localhost:8080/"
        },
        "id": "XaLhso30N8kz",
        "outputId": "637d74b1-f064-4fd0-eda2-7d241accfedc"
      },
      "execution_count": null,
      "outputs": [
        {
          "output_type": "stream",
          "name": "stdout",
          "text": [
            "['첫 번째 문장\\n', '두 번째 문장\\n', '세 번째 문장']\n",
            "첫 번째 문장\n",
            "\n",
            "두 번째 문장\n",
            "\n",
            "세 번째 문장\n"
          ]
        }
      ]
    },
    {
      "cell_type": "code",
      "source": [
        "# 연습문제 1\n",
        "\n",
        "path = \"/content/\"\n",
        "\n",
        "with open(path + \"myfile2.txt\", \"r\") as f1:\n",
        "  with open(path + \"myfile3.txt\", \"a\") as f2:\n",
        "    for line in f1:\n",
        "      f2.write(line)\n",
        "\n",
        "f = open(path + \"myfile3.txt\", \"r\")\n",
        "text = f.read()\n",
        "print(text)"
      ],
      "metadata": {
        "colab": {
          "base_uri": "https://localhost:8080/"
        },
        "id": "qlZ8tQiSmRWL",
        "outputId": "7272b40a-d297-478b-f2d8-2a02be2eb53d"
      },
      "execution_count": null,
      "outputs": [
        {
          "output_type": "stream",
          "name": "stdout",
          "text": [
            "첫 번째 문장\n",
            "두 번째 문장\n",
            "세 번째 문장\n"
          ]
        }
      ]
    }
  ]
}