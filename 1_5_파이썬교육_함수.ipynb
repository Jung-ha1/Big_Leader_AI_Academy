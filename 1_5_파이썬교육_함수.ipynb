{
  "nbformat": 4,
  "nbformat_minor": 0,
  "metadata": {
    "colab": {
      "name": "1-5. 파이썬교육_함수",
      "provenance": [],
      "collapsed_sections": [],
      "authorship_tag": "ABX9TyPIQ46I+uMINY+0lM1vv2G5",
      "include_colab_link": true
    },
    "kernelspec": {
      "name": "python3",
      "display_name": "Python 3"
    },
    "language_info": {
      "name": "python"
    }
  },
  "cells": [
    {
      "cell_type": "markdown",
      "metadata": {
        "id": "view-in-github",
        "colab_type": "text"
      },
      "source": [
        "<a href=\"https://colab.research.google.com/github/Jung-ha1/Big_Leader_AI_Academy/blob/main/1_5_%ED%8C%8C%EC%9D%B4%EC%8D%AC%EA%B5%90%EC%9C%A1_%ED%95%A8%EC%88%98.ipynb\" target=\"_parent\"><img src=\"https://colab.research.google.com/assets/colab-badge.svg\" alt=\"Open In Colab\"/></a>"
      ]
    },
    {
      "cell_type": "code",
      "execution_count": null,
      "metadata": {
        "id": "j74pMsHm4jmp"
      },
      "outputs": [],
      "source": [
        "# 반환값이 있는 함수\n",
        "def giveCoin():\n",
        "  return 10\n",
        "print(\"{} 코인을 드립니다.\".format(giveCoin()))\n",
        "\n",
        "# 매개변수도 있는 함수\n",
        "def giveCoin(level):\n",
        "  coin = 10\n",
        "\n",
        "  if level == 1:\n",
        "    coin = 10\n",
        "  elif level == 2:\n",
        "    coin = 20\n",
        "  elif level == 3:\n",
        "    coin = 30\n",
        "  return coin\n",
        "\n",
        "print(\"{} 코인을 드립니다.\".format(giveCoin(1)))\n",
        "print(\"{} 코인을 드립니다.\".format(giveCoin(level=1)))"
      ]
    },
    {
      "cell_type": "code",
      "source": [
        "# 연습문제 1\n",
        "\n",
        "num = int(input(\"숫자를 입력하세요 : \"))\n",
        "\n",
        "def abs():\n",
        "  if num < 0:\n",
        "    number = -num\n",
        "  else:\n",
        "    number = num\n",
        "  return number\n",
        "\n",
        "  print(\"{}을 입력한 결과는 {}\".format(num, number))\n",
        "abs()"
      ],
      "metadata": {
        "colab": {
          "base_uri": "https://localhost:8080/"
        },
        "id": "FQcHk5-46SrW",
        "outputId": "236244be-8edf-4931-9667-bad619113ce1"
      },
      "execution_count": null,
      "outputs": [
        {
          "name": "stdout",
          "output_type": "stream",
          "text": [
            "숫자를 입력하세요 : -3\n"
          ]
        },
        {
          "output_type": "execute_result",
          "data": {
            "text/plain": [
              "3"
            ]
          },
          "metadata": {},
          "execution_count": 17
        }
      ]
    },
    {
      "cell_type": "code",
      "source": [
        "# 매개변수만 있는 함수 (return이 없다)\n",
        "\n",
        "def sayhello(when):\n",
        "  if when == \"아침\":\n",
        "    print(\"Good Morning\")\n",
        "  elif when == \"점심\":\n",
        "    print(\"Good Afternoon~\")\n",
        "  else:\n",
        "    print(\"Good Night\")\n",
        "\n",
        "sayhello(\"아침\")\n",
        "sayhello(\"점심\")\n",
        "sayhello(\"저녁\")\n",
        "\n",
        "\n",
        "# 두 개 이상의 매개변수\n",
        "\n",
        "def calTwo(num1, num2):\n",
        "  result = num1 + num2\n",
        "  print(\"당신이 입력한 함수는 {}, {}입니다.\".format(num1, num2))\n",
        "  print(\"두 함수의 합은 {}입니다.\".format(result))\n",
        "\n",
        "calTwo(3, 5)\n",
        "\n",
        "\n",
        "# 다양한 리턴값\n",
        "def returnNone(value):\n",
        "  x = value\n",
        "\n",
        "def returnValue(value):\n",
        "  x = value * 10\n",
        "  return x\n",
        "\n",
        "def returnSet(value):\n",
        "  x = {value, value+1, value+2}\n",
        "  return x\n",
        "\n",
        "def returnTuple(value):\n",
        "  return value, value+1, value+2\n",
        "\n",
        "print(returnNone(10))\n",
        "print(returnValue(10))\n",
        "print(returnSet(10))\n",
        "print(returnTuple(10))\n",
        "\n",
        "\n",
        "# 매개변수의 리턴값\n",
        "def report(message, who=\"Everyone\"):\n",
        "  print(message, who)\n",
        "\n",
        "report(\"Good Morning\")\n",
        "report(\"Good Morning\", \"Mr. Choi\")\n",
        "\n",
        "\n",
        "# 가변인수\n",
        "def select_even(*args):\n",
        "  result = []\n",
        "\n",
        "  for num in args:\n",
        "    if num % 2 != 1:\n",
        "      result.append(num)\n",
        "    return result\n",
        "  \n",
        "  even = select_even(1, 2, 3, 4, 5, 6, 7, 8, 9, 10)\n",
        "  print(even)"
      ],
      "metadata": {
        "id": "4dTNgPSS6hYW",
        "colab": {
          "base_uri": "https://localhost:8080/"
        },
        "outputId": "b5dd97b4-9793-44ff-a19c-57d88529cb7b"
      },
      "execution_count": null,
      "outputs": [
        {
          "output_type": "stream",
          "name": "stdout",
          "text": [
            "Good Morning\n",
            "Good Afternoon~\n",
            "Good Night\n",
            "당신이 입력한 함수는 3, 5입니다.\n",
            "두 함수의 합은 8입니다.\n",
            "None\n",
            "100\n",
            "{10, 11, 12}\n",
            "(10, 11, 12)\n",
            "Good Morning Everyone\n",
            "Good Morning Mr. Choi\n"
          ]
        }
      ]
    },
    {
      "cell_type": "code",
      "source": [
        "# 연습문제 2\n",
        "\n",
        "def select_even(a):\n",
        "  result = []\n",
        "\n",
        "  for num in a:\n",
        "    if num % 2 != 1:\n",
        "      result.append(num)\n",
        "  return result\n",
        "\n",
        "x = [1, 2, 3, 4, 5, 6, 7, 8, 9, 10]\n",
        "r = select_even(x)\n",
        "print(r)"
      ],
      "metadata": {
        "id": "69apNdWH81-Y",
        "colab": {
          "base_uri": "https://localhost:8080/"
        },
        "outputId": "0d601af9-c536-402c-886a-6afd00b2c9be"
      },
      "execution_count": null,
      "outputs": [
        {
          "output_type": "stream",
          "name": "stdout",
          "text": [
            "[2, 4, 6, 8, 10]\n"
          ]
        }
      ]
    },
    {
      "cell_type": "code",
      "source": [
        "# 함수 도움말\n",
        "\n",
        "def select_even(*args):\n",
        "  '''\n",
        "  주어진 범위에서 홀수를 리스트로 만들어주는 함수\n",
        "  args : 홀수로 만들 숫자의 목록\n",
        "  '''\n",
        "\n",
        "  result = []\n",
        "  for num in args:\n",
        "    if num % 2 != 1:\n",
        "      result.append(num)\n",
        "  return result\n",
        "\n",
        "even = select_even(1, 2, 3, 4, 5, 6, 7, 8, 9, 10)\n",
        "print(even)\n",
        "\n",
        "help(select_even)"
      ],
      "metadata": {
        "id": "o8XMvdD1DgY8"
      },
      "execution_count": null,
      "outputs": []
    },
    {
      "cell_type": "code",
      "source": [
        "num1 = 10\n",
        "num2 = -10\n",
        "\n",
        "print(abs(num1))\n",
        "print(abs(num2))"
      ],
      "metadata": {
        "colab": {
          "base_uri": "https://localhost:8080/"
        },
        "id": "Ac_X8JuFBl0o",
        "outputId": "6423af9d-5be8-4140-da2d-c5037fc90b2e"
      },
      "execution_count": null,
      "outputs": [
        {
          "output_type": "stream",
          "name": "stdout",
          "text": [
            "10\n",
            "10\n"
          ]
        }
      ]
    },
    {
      "cell_type": "code",
      "source": [
        "# 연습문제 3\n",
        "num = int(input(\"정수를 입력하세요 : \"))\n",
        "\n",
        "print(float(num))"
      ],
      "metadata": {
        "id": "Hn-aeLOsFPnD",
        "colab": {
          "base_uri": "https://localhost:8080/"
        },
        "outputId": "092ff30e-9b18-4a49-923f-ffb4e85f8365"
      },
      "execution_count": null,
      "outputs": [
        {
          "output_type": "stream",
          "name": "stdout",
          "text": [
            "정수를 입력하세요 : 3\n",
            "3.0\n"
          ]
        }
      ]
    },
    {
      "cell_type": "code",
      "source": [
        "# 연습문제 4\n",
        "'''\n",
        "조건\n",
        "- prasidents 변수를 만든다.\n",
        "- range() 함수 사용\n",
        "'''\n",
        "\n",
        "prasidents = [\"이승만\", \"윤보선\", \"박정희\", \"최규하\", \"전두환\", \"노태우\", \"김영삼\", \"김대중\", \"노무현\", \"이명박\", \"박근혜\", \"문재인\", \"윤석열\"]\n",
        "\n",
        "for p in range(0, 13):\n",
        "  print(\"{}대 대통령: {}\".format(p+1, prasidents[p]))"
      ],
      "metadata": {
        "colab": {
          "base_uri": "https://localhost:8080/"
        },
        "id": "b0tJtmJuFAfj",
        "outputId": "d8f1d814-cd49-4c9c-c1e0-1b9643a85b84"
      },
      "execution_count": null,
      "outputs": [
        {
          "output_type": "stream",
          "name": "stdout",
          "text": [
            "1대 대통령: 이승만\n",
            "2대 대통령: 윤보선\n",
            "3대 대통령: 박정희\n",
            "4대 대통령: 최규하\n",
            "5대 대통령: 전두환\n",
            "6대 대통령: 노태우\n",
            "7대 대통령: 김영삼\n",
            "8대 대통령: 김대중\n",
            "9대 대통령: 노무현\n",
            "10대 대통령: 이명박\n",
            "11대 대통령: 박근혜\n",
            "12대 대통령: 문재인\n",
            "13대 대통령: 윤석열\n"
          ]
        }
      ]
    },
    {
      "cell_type": "code",
      "source": [
        "# 내장함수 - pow():제곱, round(), sum()\n",
        "\n",
        "print(pow(10, 2))\n",
        "print(10**2)\n",
        "\n",
        "print(round(2.3))\n",
        "print(round(3.41))\n",
        "\n",
        "mylist = [1, 2, 3, 4, 5]\n",
        "print(sum(mylist))\n",
        "\n",
        "# 문제 : round(3.41)을 3이 아닌 3.4로 출력되게 만들어라 - 인터넷에서 찾아서 만들어보기\n",
        "print(\"%.1f\"%round(3.41, 1))"
      ],
      "metadata": {
        "id": "M59fs_pIGhzs",
        "colab": {
          "base_uri": "https://localhost:8080/"
        },
        "outputId": "64d87947-2c6b-4f5b-ecf3-8e4503c629b4"
      },
      "execution_count": null,
      "outputs": [
        {
          "output_type": "stream",
          "name": "stdout",
          "text": [
            "100\n",
            "100\n",
            "2\n",
            "3\n",
            "15\n",
            "3.4\n"
          ]
        }
      ]
    },
    {
      "cell_type": "code",
      "source": [
        "# 내장함수 - max(), min()\n",
        "mynum = [56, 79, 82, 1, 22, 99]\n",
        "print(\"maximum value : \", max(mynum))\n",
        "print(\"mininum value : \", min(mynum))"
      ],
      "metadata": {
        "colab": {
          "base_uri": "https://localhost:8080/"
        },
        "id": "V0T7CwZUCBuu",
        "outputId": "3a413903-5ae2-4d27-e4b0-22ab3959db46"
      },
      "execution_count": null,
      "outputs": [
        {
          "output_type": "stream",
          "name": "stdout",
          "text": [
            "maximum value :  99\n",
            "mininum value :  1\n"
          ]
        }
      ]
    }
  ]
}